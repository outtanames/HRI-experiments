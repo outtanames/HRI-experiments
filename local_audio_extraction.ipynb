{
 "cells": [
  {
   "cell_type": "code",
   "execution_count": 4,
   "id": "f409957f",
   "metadata": {},
   "outputs": [
    {
     "name": "stdout",
     "output_type": "stream",
     "text": [
      "Searching for video files in: /Users/scottloftin/dev/HRI-experiments/video_files\n",
      "Placing audio files in: /Users/scottloftin/dev/HRI-experiments/audio_files\n",
      "Found session_46_clipped.mov, converting...\n",
      "Running conversion: ffmpeg -i /Users/scottloftin/dev/HRI-experiments/video_files/session_46_clipped.mov -ab 160k -ac 2 -ar 16000 -vn /Users/scottloftin/dev/HRI-experiments/audio_files/session_46_clipped.wav\n"
     ]
    },
    {
     "name": "stderr",
     "output_type": "stream",
     "text": [
      "ffmpeg version 4.2.2 Copyright (c) 2000-2019 the FFmpeg developers\n",
      "  built with clang version 4.0.1 (tags/RELEASE_401/final)\n",
      "  configuration: --prefix=/opt/concourse/worker/volumes/live/d5b9ea1c-8223-4ff6-7416-83e6b4cd6874/volume/ffmpeg_1587154914508/_h_env_placehold_placehold_placehold_placehold_placehold_placehold_placehold_placehold_placehold_placehold_placehold_placehold_placehold_placehold_placehol --cc=x86_64-apple-darwin13.4.0-clang --disable-doc --enable-avresample --enable-gmp --enable-hardcoded-tables --enable-libfreetype --enable-libvpx --enable-pthreads --enable-libopus --enable-postproc --enable-pic --enable-pthreads --enable-shared --enable-static --enable-version3 --enable-zlib --enable-libmp3lame --disable-nonfree --enable-gpl --enable-gnutls --disable-openssl --enable-libopenh264 --enable-libx264\n",
      "  libavutil      56. 31.100 / 56. 31.100\n",
      "  libavcodec     58. 54.100 / 58. 54.100\n",
      "  libavformat    58. 29.100 / 58. 29.100\n",
      "  libavdevice    58.  8.100 / 58.  8.100\n",
      "  libavfilter     7. 57.100 /  7. 57.100\n",
      "  libavresample   4.  0.  0 /  4.  0.  0\n",
      "  libswscale      5.  5.100 /  5.  5.100\n",
      "  libswresample   3.  5.100 /  3.  5.100\n",
      "  libpostproc    55.  5.100 / 55.  5.100\n",
      "Input #0, mov,mp4,m4a,3gp,3g2,mj2, from '/Users/scottloftin/dev/HRI-experiments/video_files/session_46_clipped.mov':\n",
      "  Metadata:\n",
      "    major_brand     : qt  \n",
      "    minor_version   : 0\n",
      "    compatible_brands: qt  \n",
      "    creation_time   : 2023-02-01T03:53:49.000000Z\n",
      "  Duration: 00:00:22.92, start: 0.000000, bitrate: 4538 kb/s\n",
      "    Stream #0:0(und): Audio: aac (LC) (mp4a / 0x6134706D), 44100 Hz, mono, fltp, 65 kb/s (default)\n",
      "    Metadata:\n",
      "      creation_time   : 2023-02-01T03:53:49.000000Z\n",
      "      handler_name    : Core Media Audio\n",
      "    Stream #0:1(und): Video: h264 (Main) (avc1 / 0x31637661), yuv420p(tv, smpte170m/smpte170m/bt709), 640x360, 4463 kb/s, 30.05 fps, 30 tbr, 1k tbn, 2k tbc (default)\n",
      "    Metadata:\n",
      "      creation_time   : 2023-02-01T03:53:49.000000Z\n",
      "      handler_name    : Core Media Video\n",
      "      encoder         : H.264\n",
      "File '/Users/scottloftin/dev/HRI-experiments/audio_files/session_46_clipped.wav' already exists. Overwrite ? [y/N] Not overwriting - exiting\n"
     ]
    }
   ],
   "source": [
    "# start by extracting the raw audio with ffmpeg\n",
    "import subprocess\n",
    "import os\n",
    "from pathlib import Path\n",
    "\n",
    "project_dir = os.path.join(Path.home(), Path(\"dev/HRI-experiments\"))\n",
    "video_dir = os.path.join(project_dir, \"video_files\")\n",
    "print(\"Searching for video files in: \" + video_dir)\n",
    "audio_dir = os.path.join(project_dir, \"audio_files\")\n",
    "print(\"Placing audio files in: \" + audio_dir)\n",
    "\n",
    "for in_file in os.listdir(video_dir):\n",
    "    print(\"Found \" + in_file + \", converting...\")\n",
    "    in_file = os.path.join(video_dir, in_file)\n",
    "    out_file = os.path.join(audio_dir, Path(in_file).stem + \".wav\")\n",
    "    convert_command = \"ffmpeg -i \" + in_file + \" -ab 160k -ac 2 -ar 16000 -vn \" + out_file\n",
    "    print(\"Running conversion: \" + convert_command)\n",
    "    subprocess.call(convert_command, shell=True)"
   ]
  },
  {
   "cell_type": "code",
   "execution_count": 11,
   "id": "b28da498",
   "metadata": {},
   "outputs": [
    {
     "name": "stdout",
     "output_type": "stream",
     "text": [
      "16000\n"
     ]
    },
    {
     "data": {
      "text/plain": [
       "(366950,)"
      ]
     },
     "execution_count": 11,
     "metadata": {},
     "output_type": "execute_result"
    }
   ],
   "source": [
    "# Now lets load a wav file as numpy array\n",
    "from scipy.io import wavfile\n",
    "import numpy as np\n",
    "\n",
    "audio_filename = os.path.join(audio_dir, \"session_46_clipped.wav\")\n",
    "output = wavfile.read(audio_filename)\n",
    "sampling_rate = output[0]\n",
    "print(sampling_rate)\n",
    "samples = [a[0] for a in output[1]]\n",
    "audio_data = np.array(samples, dtype=float)\n",
    "audio_data.shape"
   ]
  },
  {
   "cell_type": "code",
   "execution_count": null,
   "id": "12755994",
   "metadata": {},
   "outputs": [],
   "source": [
    "import torch\n",
    "from transformers import Speech2TextProcessor, Speech2TextForConditionalGeneration\n",
    "from datasets import load_dataset\n",
    "\n",
    "model = Speech2TextForConditionalGeneration.from_pretrained(\"facebook/s2t-small-librispeech-asr\")\n",
    "processor = Speech2TextProcessor.from_pretrained(\"facebook/s2t-small-librispeech-asr\")\n",
    "\n",
    "\n",
    "# ds = load_dataset(\"hf-internal-testing/librispeech_asr_demo\", \"clean\", split=\"validation\")\n",
    "# inputs = processor(ds[0][\"audio\"][\"array\"], sampling_rate=ds[0][\"audio\"][\"sampling_rate\"], return_tensors=\"pt\")\n",
    "inputs = processor(audio_data, sampling_rate=sampling_rate, return_tensors=\"pt\")\n",
    "generated_ids = model.generate(inputs[\"input_features\"], attention_mask=inputs[\"attention_mask\"])\n",
    "\n",
    "transcription = processor.batch_decode(generated_ids, skip_special_tokens=True)\n",
    "transcription\n",
    "['mister quilter is the apostle of the middle classes and we are glad to welcome his gospel']"
   ]
  },
  {
   "cell_type": "code",
   "execution_count": null,
   "id": "1a6e6731",
   "metadata": {},
   "outputs": [],
   "source": []
  }
 ],
 "metadata": {
  "kernelspec": {
   "display_name": "Python 3 (ipykernel)",
   "language": "python",
   "name": "python3"
  },
  "language_info": {
   "codemirror_mode": {
    "name": "ipython",
    "version": 3
   },
   "file_extension": ".py",
   "mimetype": "text/x-python",
   "name": "python",
   "nbconvert_exporter": "python",
   "pygments_lexer": "ipython3",
   "version": "3.10.9"
  }
 },
 "nbformat": 4,
 "nbformat_minor": 5
}
